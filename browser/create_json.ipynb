{
 "cells": [
  {
   "cell_type": "code",
   "execution_count": 1,
   "metadata": {},
   "outputs": [],
   "source": [
    "import json\n",
    "import os"
   ]
  },
  {
   "cell_type": "code",
   "execution_count": 2,
   "metadata": {},
   "outputs": [],
   "source": [
    "def search_files(start_dir, extension):\n",
    "    result = []\n",
    "    for dirpath, dirs, files in os.walk(start_dir):\n",
    "        for filename in files:\n",
    "            if filename.endswith(extension):\n",
    "                result.append(os.path.relpath(os.path.join(dirpath, filename), start_dir))\n",
    "    return result\n"
   ]
  },
  {
   "attachments": {},
   "cell_type": "markdown",
   "metadata": {},
   "source": [
    "### json file for images"
   ]
  },
  {
   "cell_type": "code",
   "execution_count": 3,
   "metadata": {},
   "outputs": [],
   "source": [
    "file_list = search_files('/Users/vanijzen/Library/Group Containers/G69SCX94XU.duck/Library/Application Support/duck/Volumes.noindex/macs-map', '.dzi')"
   ]
  },
  {
   "cell_type": "code",
   "execution_count": 4,
   "metadata": {},
   "outputs": [],
   "source": [
    "file_list = [f for f in file_list if not f.startswith('image')]"
   ]
  },
  {
   "cell_type": "code",
   "execution_count": 5,
   "metadata": {},
   "outputs": [],
   "source": [
    "data_list = [{\"folder\": os.path.dirname(file), \n",
    "              \"name\": os.path.basename(file)[:-4],\n",
    "              \"dzi\": file} for file in file_list]"
   ]
  },
  {
   "cell_type": "code",
   "execution_count": 6,
   "metadata": {},
   "outputs": [],
   "source": [
    "json_file = {\"samples\": data_list}"
   ]
  },
  {
   "cell_type": "code",
   "execution_count": 9,
   "metadata": {},
   "outputs": [],
   "source": [
    "with open('src/lib/data.json', 'w') as f:\n",
    "    json.dump(json_file, f, indent=4)"
   ]
  },
  {
   "cell_type": "code",
   "execution_count": 7,
   "metadata": {},
   "outputs": [
    {
     "data": {
      "text/plain": [
       "['Crohns_Disease/CD1_2_CPTNC_CD68Y_NLRP3P/CD1_2_CPTNC_CD68Y_NLRP3P.dzi',\n",
       " 'Crohns_Disease/CD1_NLRP3P_CD68Y_CPTNC/CD1_NLRP3P_CD68Y_CPTNC.dzi',\n",
       " 'Crohns_Disease/CD2_CPTNC_CD68Y_NLRP3P/CD2_CPTNC_CD68Y_NLRP3P.dzi',\n",
       " 'Crohns_Disease/CD3_2_CPTNC_CD68Y_NLRP3P/CD3_2_CPTNC_CD68Y_NLRP3P.dzi',\n",
       " 'Crohns_Disease/CD3_CPTNC_CD68Y_NLRP3P/CD3_CPTNC_CD68Y_NLRP3P.dzi',\n",
       " 'Figure_images/Fig2B_CODEX_image/reg027_panCK_CD68_CD163/reg027_panCK_CD68_CD163.dzi',\n",
       " 'Figure_images/Fig2C/IL4I1R_FOLR2Y_panCKC/IL4I1R_FOLR2Y_panCKC.dzi',\n",
       " 'Figure_images/Fig2D/NLRP3P_FOLR2Y_panCKC/NLRP3P_FOLR2Y_panCKC.dzi',\n",
       " 'Figure_images/Fig2E/SPP1O_FOLR2Y_panCKC/SPP1O_FOLR2Y_panCKC.dzi',\n",
       " 'Figure_images/Fig3A/panCKC_IL4I1R/panCKC_IL4I1R.dzi',\n",
       " 'Figure_images/Fig3B/IL4I1R_FOLR2Y_panCKC/IL4I1R_FOLR2Y_panCKC.dzi',\n",
       " 'Figure_images/Fig3C/IL4I1R_FOLR2Y/IL4I1R_FOLR2Y.dzi',\n",
       " 'Figure_images/Fig3D/DAPI_IL4I1R.dzi',\n",
       " 'Figure_images/Fig3D/HE/HE.dzi',\n",
       " 'Figure_images/Fig5B/CD138C_CD38P_FOLR2Y/CD138C_CD38P_FOLR2Y.dzi',\n",
       " 'Figure_images/Fig6F/left_NLRP3P_CD68Y_CPTNC/left_NLRP3P_CD68Y_CPTNC.dzi',\n",
       " 'Figure_images/Fig6F/left_full_NLRP3P_CD68Y_CTPNC/left_full_NLRP3P_CD68Y_CTPNC.dzi',\n",
       " 'Figure_images/Fig6F/right_NLRP3P_CD68Y_CPTNC/right_NLRP3P_CD68Y_CPTNC.dzi',\n",
       " 'Figure_images/Fig6F/rigth_full_NLRP3P_CD68Y_CPTNC/rigth_full_NLRP3P_CD68Y_CPTNC.dzi',\n",
       " 'Figure_images/Fig7A/PanCKC_SPP1P_IL4I1Y/PanCKC_SPP1P_IL4I1Y.dzi',\n",
       " 'Figure_images/Fig7D/TA118_L9_IL4I1R_CD68G/TA118_L9_IL4I1R_CD68G.dzi',\n",
       " 'Figure_images/Fig7E/TA118_E9_SPP1P_CD68G/TA118_E9_SPP1P_CD68G.dzi',\n",
       " 'Figure_images/FigS2B/big_area_panCKC_FOLR2Y_IL4I1R/big_area_panCKC_FOLR2Y_IL4I1R.dzi',\n",
       " 'Figure_images/FigS2C/LN_CRC_met_panCKC_FOLR2Y_IL4I1R/LN_CRC_met_panCKC_FOLR2Y_IL4I1R.dzi',\n",
       " 'Figure_images/FigS2D/NC_IL4I1R_FOLR2Y_LYVE1P/NC_IL4I1R_FOLR2Y_LYVE1P.dzi',\n",
       " 'Figure_images/FigS2E/NC_MARCOC_FOLR2Y_LYVE1P/NC_MARCOC_FOLR2Y_LYVE1P.dzi',\n",
       " 'Figure_images/FigS2F/NB_MARCOC_FOLR2Y_LYVE1P/NB_MARCOC_FOLR2Y_LYVE1P.dzi',\n",
       " 'Figure_images/FigS3_CODEX_images/FigS3E_reg019_CD68R_panCKW.dzi',\n",
       " 'Figure_images/FigS3_CODEX_images/FigS3F_panCKW_CD68R_SPP1O.dzi',\n",
       " 'Figure_images/FigS3_CODEX_images/FigS3G_panCKW_Arg1C_SPP1O.dzi',\n",
       " 'Figure_images/FigS3_CODEX_images/FigS3H_panCKW_CA9P_SPP1O.dzi',\n",
       " 'Figure_images/FigS3_CODEX_images/FigS3I_FOLR2Y_CD38P_SMAC_CD31R.dzi',\n",
       " 'Figure_images/FigS3_CODEX_images/FigS3J_SMAB_FOLR2Y.dzi',\n",
       " 'Figure_images/FigS3_CODEX_images/FigS3K_FAPG_FOLR2Y_panCKW.dzi',\n",
       " 'Figure_images/FigS3_CODEX_images/FigS3L_CD4R_CD8P_HLADRC_FOxP3G_FOLR2Y.dzi',\n",
       " 'Figure_images/FigS3_CODEX_images/FigS3M_LYVE1P_PDGFRbC_SMAG_CD31R.dzi',\n",
       " 'Figure_images/FigS5A/left_NC_CD38P_FOLR2Y/left_NC_CD38P_FOLR2Y.dzi',\n",
       " 'Figure_images/FigS5A/right_NB_CD38P_FOLR2Y/right_NB_CD38P_FOLR2Y.dzi',\n",
       " 'Figure_images/FigS5B/NLN_FOLR2Y_CD38P/NLN_FOLR2Y_CD38P.dzi',\n",
       " 'Figure_images/FigS6A/left_CD_CD68Y_CPTNC/left_CD_CD68Y_CPTNC.dzi',\n",
       " 'Figure_images/FigS6A/right_NLRP3P_CD68Y_NLRP3P/right_NLRP3P_CD68Y_NLRP3P.dzi',\n",
       " 'Normal_Colon_LYVE1P_FOLR2Y_IL4I1R/NC12_LYVE1P_FOLR2Y_IL4I1R/NC12_LYVE1P_FOLR2Y_IL4I1R.dzi',\n",
       " 'Normal_Colon_LYVE1P_FOLR2Y_IL4I1R/NC1_LYVE1P_FOLR2Y_IL4I1R/NC1_LYVE1P_FOLR2Y_IL4I1R.dzi',\n",
       " 'Normal_Colon_LYVE1P_FOLR2Y_IL4I1R/NC2_LYVE1P_FOLR2Y_IL4I1R/NC2_LYVE1P_FOLR2Y_IL4I1R.dzi',\n",
       " 'Normal_Colon_LYVE1P_FOLR2Y_IL4I1R/NC4_LYVE1P_FOLR2Y_IL4I1R/NC4_LYVE1P_FOLR2Y_IL4I1R.dzi',\n",
       " 'Normal_Colon_LYVE1P_FOLR2Y_IL4I1R/NC6_LYVE1P_FOLR2Y_IL4I1R/NC6_LYVE1P_FOLR2Y_IL4I1R.dzi',\n",
       " 'Normal_Colon_LYVE1P_FOLR2Y_IL4I1R/NC7_LYVE1P_FOLR2Y_IL4I1R/NC7_LYVE1P_FOLR2Y_IL4I1R.dzi',\n",
       " 'Normal_Colon_LYVE1P_FOLR2Y_IL4I1R/NC8_LYVE1P_FOLR2Y_IL4I1R/NC8_LYVE1P_FOLR2Y_IL4I1R.dzi',\n",
       " 'Normal_Colon_LYVE1P_FOLR2Y_IL4I1R/NC9_LYVE1P_FOLR2Y_IL4I1R/NC9_LYVE1P_FOLR2Y_IL4I1R.dzi',\n",
       " 'Normal_Colon_panCKC_FOLR2Y_IL4I1R/NC10_2_panCKC_FOLR2Y_IL4I1R/NC10_2_panCKC_FOLR2Y_IL4I1R.dzi',\n",
       " 'Normal_Colon_panCKC_FOLR2Y_IL4I1R/NC10_panCKC_FOLR2Y_IL4I1R/NC10_panCKC_FOLR2Y_IL4I1R.dzi',\n",
       " 'Normal_Colon_panCKC_FOLR2Y_IL4I1R/NC1_panCKC_FOLR2Y_IL4I1R/NC1_panCKC_FOLR2Y_IL4I1R.dzi',\n",
       " 'Normal_Colon_panCKC_FOLR2Y_IL4I1R/NC2_panCKC_FOLR2Y_IL4I1R/NC2_panCKC_FOLR2Y_IL4I1R.dzi',\n",
       " 'Normal_Colon_panCKC_FOLR2Y_IL4I1R/NC5_panCKC_FOLR2Y_IL4I1R/NC5_panCKC_FOLR2Y_IL4I1R.dzi',\n",
       " 'Normal_Colon_panCKC_FOLR2Y_IL4I1R/NC6_panCKC_FOLR2Y_IL4I1R/NC6_panCKC_FOLR2Y_IL4I1R.dzi',\n",
       " 'Normal_Colon_panCKC_FOLR2Y_IL4I1R/NC8_panCKC_FOLR2Y_IL4I1R/NC8_panCKC_FOLR2Y_IL4I1R.dzi',\n",
       " 'full_slide_images/FOLR2C_Il4I1R_SPP1Y/BC_28485_panCKC_FOLR2Y_IL4I1R/BC_28485_panCKC_FOLR2Y_IL4I1R.dzi',\n",
       " 'full_slide_images/FOLR2C_Il4I1R_SPP1Y/BC_28621_panCKC_FOLR2Y_IL4I1R/BC_28621_panCKC_FOLR2Y_IL4I1R.dzi',\n",
       " 'full_slide_images/FOLR2C_Il4I1R_SPP1Y/FS_CRC1a_IL4I1R_FOLR2C_SPP1Y/FS_CRC1a_IL4I1R_FOLR2C_SPP1Y.dzi',\n",
       " 'full_slide_images/FOLR2C_Il4I1R_SPP1Y/FS_CRC1b_IL4I1R_FOLR2C_SPP1Y/FS_CRC1b_IL4I1R_FOLR2C_SPP1Y.dzi',\n",
       " 'full_slide_images/FOLR2C_Il4I1R_SPP1Y/bottom_BC_28644_panCKC_FOLR2Y_IL4I1R/bottom_BC_28644_panCKC_FOLR2Y_IL4I1R.dzi',\n",
       " 'full_slide_images/FOLR2C_Il4I1R_SPP1Y/left_BC_28568_panCKC_FOLR2Y_IL4I1R/left_BC_28568_panCKC_FOLR2Y_IL4I1R.dzi',\n",
       " 'full_slide_images/FOLR2C_Il4I1R_SPP1Y/right_BC_28568_panCKC_FOLR2Y_IL4I1R/right_BC_28568_panCKC_FOLR2Y_IL4I1R.dzi',\n",
       " 'full_slide_images/FOLR2C_Il4I1R_SPP1Y/top_BC_28644_panCKC_FOLR2Y_IL4I1R/top_BC_28644_panCKC_FOLR2Y_IL4I1R.dzi',\n",
       " 'full_slide_images/panCKC_IL4I1Y_SPP1P/BC_28485_panCKC_IL4I1Y_SPP1P/BC_28485_panCKC_IL4I1Y_SPP1P.dzi',\n",
       " 'full_slide_images/panCKC_IL4I1Y_SPP1P/BC_28621_panCKC_IL4I1Y_SPP1P/BC_28621_panCKC_IL4I1Y_SPP1P.dzi',\n",
       " 'full_slide_images/panCKC_IL4I1Y_SPP1P/CRC_33086_panCKC_Il4I1Y_SPP1P/CRC_33086_panCKC_Il4I1Y_SPP1P.dzi',\n",
       " 'full_slide_images/panCKC_IL4I1Y_SPP1P/CRC_33096_panCKC_IL4I1Y_SPP1P/CRC_33096_panCKC_IL4I1Y_SPP1P.dzi',\n",
       " 'full_slide_images/panCKC_IL4I1Y_SPP1P/CRC_33124_panCKC_Il4I1Y_SPP1P/CRC_33124_panCKC_Il4I1Y_SPP1P.dzi',\n",
       " 'full_slide_images/panCKC_IL4I1Y_SPP1P/NC_33096_panCKC_IL4I1Y_SPP1P/NC_33096_panCKC_IL4I1Y_SPP1P.dzi',\n",
       " 'full_slide_images/panCKC_IL4I1Y_SPP1P/bottom_BC_28644_panCKC_IL4I1Y_SPP1P/bottom_BC_28644_panCKC_IL4I1Y_SPP1P.dzi',\n",
       " 'full_slide_images/panCKC_IL4I1Y_SPP1P/left_BC_28568_panCKC_Il4I1Y_SPP1P/left_BC_28568_panCKC_Il4I1Y_SPP1P.dzi',\n",
       " 'full_slide_images/panCKC_IL4I1Y_SPP1P/left_CRC_33041_Il4I1Y_SPP1P_panCKC/left_CRC_33041_Il4I1Y_SPP1P_panCKC.dzi',\n",
       " 'full_slide_images/panCKC_IL4I1Y_SPP1P/right_BC_28568_panCKC_IL4I1Y_SPP1P/right_BC_28568_panCKC_IL4I1Y_SPP1P.dzi',\n",
       " 'full_slide_images/panCKC_IL4I1Y_SPP1P/right_CRC_33041_IL4I1Y_SPP1P_panCKC/right_CRC_33041_IL4I1Y_SPP1P_panCKC.dzi',\n",
       " 'full_slide_images/panCKC_IL4I1Y_SPP1P/top_BC_28644_panCKC_IL4I1Y_SPP1P/top_BC_28644_panCKC_IL4I1Y_SPP1P.dzi']"
      ]
     },
     "execution_count": 7,
     "metadata": {},
     "output_type": "execute_result"
    }
   ],
   "source": [
    "file_list"
   ]
  },
  {
   "cell_type": "code",
   "execution_count": 8,
   "metadata": {},
   "outputs": [
    {
     "data": {
      "text/plain": [
       "76"
      ]
     },
     "execution_count": 8,
     "metadata": {},
     "output_type": "execute_result"
    }
   ],
   "source": [
    "len(file_list)"
   ]
  },
  {
   "attachments": {},
   "cell_type": "markdown",
   "metadata": {},
   "source": [
    "### JSON for files"
   ]
  },
  {
   "cell_type": "code",
   "execution_count": 20,
   "metadata": {},
   "outputs": [],
   "source": [
    "file_list = search_files('/Users/vanijzen/Library/Group Containers/G69SCX94XU.duck/Library/Application Support/duck/Volumes.noindex/macs-data', '')"
   ]
  },
  {
   "cell_type": "code",
   "execution_count": 21,
   "metadata": {},
   "outputs": [],
   "source": [
    "# remove all DS_Store files\n",
    "file_list = [f for f in file_list if not f.startswith('.')]\n",
    "file_list = [f for f in file_list if not 'DS_Store' in f]\n"
   ]
  },
  {
   "cell_type": "code",
   "execution_count": 22,
   "metadata": {},
   "outputs": [],
   "source": [
    "json_file = {\"files\": file_list}"
   ]
  },
  {
   "cell_type": "code",
   "execution_count": 26,
   "metadata": {},
   "outputs": [],
   "source": [
    "with open('src/lib/files.json', 'w') as f:\n",
    "    json.dump(json_file, f, indent=4)"
   ]
  },
  {
   "cell_type": "code",
   "execution_count": 23,
   "metadata": {},
   "outputs": [
    {
     "data": {
      "text/plain": [
       "95"
      ]
     },
     "execution_count": 23,
     "metadata": {},
     "output_type": "execute_result"
    }
   ],
   "source": [
    "len(file_list)"
   ]
  },
  {
   "cell_type": "code",
   "execution_count": 15,
   "metadata": {},
   "outputs": [],
   "source": [
    "# read the file\n",
    "with open('src/lib/files.json', 'r') as f:\n",
    "    json_file = json.load(f)"
   ]
  },
  {
   "cell_type": "code",
   "execution_count": 19,
   "metadata": {},
   "outputs": [
    {
     "data": {
      "text/plain": [
       "84"
      ]
     },
     "execution_count": 19,
     "metadata": {},
     "output_type": "execute_result"
    }
   ],
   "source": [
    "len(json_file['files'])"
   ]
  },
  {
   "cell_type": "code",
   "execution_count": 24,
   "metadata": {},
   "outputs": [
    {
     "data": {
      "text/plain": [
       "['Analysis_code_and_tab_data/CODEX/tissue_region_meta_data_CODEX_spatial_MAC_Map.csv',\n",
       " 'Analysis_code_and_tab_data/CODEX/neighbourhood_analysis_and_distance_computation_in_python/1_input_annotated_CODEX_cell_metadata.csv',\n",
       " 'Analysis_code_and_tab_data/CODEX/neighbourhood_analysis_and_distance_computation_in_python/1_res_and_2_input_BC_CRC_nieghbourhoods_clustering_res.csv',\n",
       " 'Analysis_code_and_tab_data/CODEX/neighbourhood_analysis_and_distance_computation_in_python/1_script_CRC_BC_neighbourhood_analysis.ipynb',\n",
       " 'Analysis_code_and_tab_data/CODEX/neighbourhood_analysis_and_distance_computation_in_python/2_script_compute_dist_from_the_closest_tumor_Cell.ipynb',\n",
       " 'Analysis_code_and_tab_data/CODEX/neighbourhood_analysis_and_distance_computation_in_python/CODEX_AnnData_combined_expression_and_metadata.h5ad',\n",
       " 'Analysis_code_and_tab_data/CODEX/ploting_in_R/1_BC_CRC_nieghbourhoods_clustering_res.csv',\n",
       " 'Analysis_code_and_tab_data/CODEX/ploting_in_R/1_Fig4D_S4D_S4E_4E_2B_S3E_M_plot_niche_MAC_Epi_frequency_and_niche_dotplots.R',\n",
       " 'Analysis_code_and_tab_data/CODEX/ploting_in_R/2_Fig4C_S3C_plot_CODEX_distances.R',\n",
       " 'Analysis_code_and_tab_data/CODEX/ploting_in_R/2_res_BC_MAC_dist_to_Epi_by_niche.csv',\n",
       " 'Analysis_code_and_tab_data/CODEX/ploting_in_R/2_res_CRC_MAC_dist_to_Epi_by_niche.csv',\n",
       " 'Analysis_code_and_tab_data/CODEX/stacked_TIF_images/BC_stacked_TIFs_andChannel_names.zip',\n",
       " 'Analysis_code_and_tab_data/CODEX/stacked_TIF_images/CRC_stacked_TIFs_with_channel_names 3.zip',\n",
       " 'Analysis_code_and_tab_data/CODEX/stacked_TIF_images/CRC_stacked_TIFs_with_channel_names.zip',\n",
       " 'Analysis_code_and_tab_data/IF/clinical annotations TA588 TA589.xlsx',\n",
       " 'Analysis_code_and_tab_data/IF/Fig2_distance_IL4I1_NLRP3_SPP1_FOLR2_MACs_to_Epithelial_cells/plot_distance_to_closest_tumor_Cell.R',\n",
       " 'Analysis_code_and_tab_data/IF/Fig2_distance_IL4I1_NLRP3_SPP1_FOLR2_MACs_to_Epithelial_cells/plot_spatial_distribution.R',\n",
       " 'Analysis_code_and_tab_data/IF/Fig2_distance_IL4I1_NLRP3_SPP1_FOLR2_MACs_to_Epithelial_cells/IF_intensity_per_cell/!FF_TA588_IL4I1R_FOLR2Y_panCKC.csv',\n",
       " 'Analysis_code_and_tab_data/IF/Fig2_distance_IL4I1_NLRP3_SPP1_FOLR2_MACs_to_Epithelial_cells/IF_intensity_per_cell/!FF_TA589_IL4I1R_FOLR2Y_PckB.csv',\n",
       " 'Analysis_code_and_tab_data/IF/Fig2_distance_IL4I1_NLRP3_SPP1_FOLR2_MACs_to_Epithelial_cells/IF_intensity_per_cell/!TA588_FOLR2Y_NLRP3R_panCKC.csv',\n",
       " 'Analysis_code_and_tab_data/IF/Fig2_distance_IL4I1_NLRP3_SPP1_FOLR2_MACs_to_Epithelial_cells/IF_intensity_per_cell/!TA588_FOLR2Y_SPP1R_panCKC.csv',\n",
       " 'Analysis_code_and_tab_data/IF/Fig2_distance_IL4I1_NLRP3_SPP1_FOLR2_MACs_to_Epithelial_cells/IF_intensity_per_cell/!TA589_FOLR2Y_NLRP3R_panCKC.csv',\n",
       " 'Analysis_code_and_tab_data/IF/Fig2_distance_IL4I1_NLRP3_SPP1_FOLR2_MACs_to_Epithelial_cells/annotated_cells_and_coordinates/TA588_IL4I1_FOLR2_PanCK_scanapy_annots.csv',\n",
       " 'Analysis_code_and_tab_data/IF/Fig2_distance_IL4I1_NLRP3_SPP1_FOLR2_MACs_to_Epithelial_cells/annotated_cells_and_coordinates/TA588_NLRP3_FOLR2_PanCK_scanapy_annots.csv',\n",
       " 'Analysis_code_and_tab_data/IF/Fig2_distance_IL4I1_NLRP3_SPP1_FOLR2_MACs_to_Epithelial_cells/annotated_cells_and_coordinates/TA588_SPP1_FOLR2_PanCK_scanapy_annots.csv',\n",
       " 'Analysis_code_and_tab_data/IF/Fig2_distance_IL4I1_NLRP3_SPP1_FOLR2_MACs_to_Epithelial_cells/annotated_cells_and_coordinates/TA589_IL4I1_FOLR2_PanCK_scanapy_annots.csv',\n",
       " 'Analysis_code_and_tab_data/IF/Fig2_distance_IL4I1_NLRP3_SPP1_FOLR2_MACs_to_Epithelial_cells/annotated_cells_and_coordinates/TA589_NLRP3_FOLR2_PanCK_scanapy_annots.csv',\n",
       " 'Analysis_code_and_tab_data/IF/Fig2_distance_IL4I1_NLRP3_SPP1_FOLR2_MACs_to_Epithelial_cells/distances/TA588_IL4I1_FOLR2_PanCK_dist_to_Epi_scanapy.csv',\n",
       " 'Analysis_code_and_tab_data/IF/Fig2_distance_IL4I1_NLRP3_SPP1_FOLR2_MACs_to_Epithelial_cells/distances/TA588_NLRP3_FOLR2_PanCK_dist_to_Epi_scanapy.csv',\n",
       " 'Analysis_code_and_tab_data/IF/Fig2_distance_IL4I1_NLRP3_SPP1_FOLR2_MACs_to_Epithelial_cells/distances/TA588_SPP1_FOLR2_PanCK_dist_to_Epi_scanapy.csv',\n",
       " 'Analysis_code_and_tab_data/IF/Fig2_distance_IL4I1_NLRP3_SPP1_FOLR2_MACs_to_Epithelial_cells/distances/TA589_IL4I1_FOLR2_PanCK_MAC_dist_to_Epi.csv',\n",
       " 'Analysis_code_and_tab_data/IF/Fig2_distance_IL4I1_NLRP3_SPP1_FOLR2_MACs_to_Epithelial_cells/distances/TA589_NLRP3_FOLR2_PanCK_MAC_dist_to_Epi.csv',\n",
       " 'Analysis_code_and_tab_data/IF/Fig2_distance_IL4I1_NLRP3_SPP1_FOLR2_MACs_to_Epithelial_cells/images/!FF_TA588_IL4I1R_FOLR2Y_panCKC.zip',\n",
       " 'Analysis_code_and_tab_data/IF/Fig2_distance_IL4I1_NLRP3_SPP1_FOLR2_MACs_to_Epithelial_cells/images/!FF_TA589_IL4I1R_FOLR2Y_PckB.zip',\n",
       " 'Analysis_code_and_tab_data/IF/Fig2_distance_IL4I1_NLRP3_SPP1_FOLR2_MACs_to_Epithelial_cells/images/!TA588_FOLR2Y_NLRP3R_panCKC.zip',\n",
       " 'Analysis_code_and_tab_data/IF/Fig2_distance_IL4I1_NLRP3_SPP1_FOLR2_MACs_to_Epithelial_cells/images/!TA588_FOLR2Y_SPP1R_panCKC.zip',\n",
       " 'Analysis_code_and_tab_data/IF/Fig2_distance_IL4I1_NLRP3_SPP1_FOLR2_MACs_to_Epithelial_cells/images/!TA589_FOLR2Y_NLRP3R_panCKC.zip',\n",
       " 'Analysis_code_and_tab_data/IF/Fig5_FOLR2_IL4I1Macs_distance_to_PC/plot_IL4I1_FOLR2_dist_from_PC.R',\n",
       " 'Analysis_code_and_tab_data/IF/Fig5_FOLR2_IL4I1Macs_distance_to_PC/IF_intensity_per_cell/TA588_IL4I1R_FOLR2Y_CD138C_re.csv',\n",
       " 'Analysis_code_and_tab_data/IF/Fig5_FOLR2_IL4I1Macs_distance_to_PC/IF_intensity_per_cell/TA589_IL4I1R_FOLR2Y_CD138C_re.csv',\n",
       " 'Analysis_code_and_tab_data/IF/Fig5_FOLR2_IL4I1Macs_distance_to_PC/cell_annots_and_coordinates/TA588_CD138_FOLR2_IL4I1_scanapy_annots.csv',\n",
       " 'Analysis_code_and_tab_data/IF/Fig5_FOLR2_IL4I1Macs_distance_to_PC/cell_annots_and_coordinates/TA589_CD138_FOLR2_IL4I1_scanapy_annots.csv',\n",
       " 'Analysis_code_and_tab_data/IF/Fig5_FOLR2_IL4I1Macs_distance_to_PC/distances/TA588_IL4I1_FOLR2_CD138_dist_to_PC_scanapy.csv',\n",
       " 'Analysis_code_and_tab_data/IF/Fig5_FOLR2_IL4I1Macs_distance_to_PC/distances/TA589_IL4I1_FOLR2_CD138_dist_to_PC_scanapy.csv',\n",
       " 'Analysis_code_and_tab_data/IF/Fig5_FOLR2_IL4I1Macs_distance_to_PC/images/!TA588_IL4I1R_FOLR2Y_CD138C_re.zip',\n",
       " 'Analysis_code_and_tab_data/IF/Fig5_FOLR2_IL4I1Macs_distance_to_PC/images/!TA589_IL4I1R_FOLR2Y_CD138C_re.zip',\n",
       " 'Analysis_code_and_tab_data/IF/Fig6_Neutrophil_quantification_Crohns/CD_CPTN_DAPI.csv',\n",
       " 'Analysis_code_and_tab_data/IF/Fig6_Neutrophil_quantification_Crohns/Plot_neutrophil_quantification.R',\n",
       " 'Analysis_code_and_tab_data/IF/Fig6_Neutrophil_quantification_in_tumors/plot_Neutrophils_in_BC_CRC_by_NLRP3_aggregation.R',\n",
       " 'Analysis_code_and_tab_data/IF/Fig6_Neutrophil_quantification_in_tumors/IF_intensity_per_cell/TA588_CPTNG_NLRP3R_CD68Y.csv',\n",
       " 'Analysis_code_and_tab_data/IF/Fig6_Neutrophil_quantification_in_tumors/IF_intensity_per_cell/TA589_CPTNG_NLRP3R_CD68Y.csv',\n",
       " 'Analysis_code_and_tab_data/IF/Fig6_Neutrophil_quantification_in_tumors/IF_intensity_per_cell/plot_IL4I1_SPP1_TAM_frequency.R',\n",
       " 'Analysis_code_and_tab_data/IF/Fig6_Neutrophil_quantification_in_tumors/cell_annots_and_coordinates/Neutophils_NLRP3_inflammasome.csv',\n",
       " 'Analysis_code_and_tab_data/IF/Fig6_Neutrophil_quantification_in_tumors/images/!TA588_CPTNG_NLRP3R_CD68Y.zip',\n",
       " 'Analysis_code_and_tab_data/IF/Fig6_Neutrophil_quantification_in_tumors/images/!TA589_CPTNG_NLRP3R_CD68Y.zip',\n",
       " 'Analysis_code_and_tab_data/IF/Fig7_frequency_quantification_IL4I1_SPP1_TAMs/plot_IL4I1_SPP1_TAM_frequency.R',\n",
       " 'Analysis_code_and_tab_data/IF/Fig7_frequency_quantification_IL4I1_SPP1_TAMs/IF_intensities/TA118_panCKC_IL4I1Y_SPP1P.csv',\n",
       " 'Analysis_code_and_tab_data/IF/Fig7_frequency_quantification_IL4I1_SPP1_TAMs/cell_annots_and_coordinates/TA118_SPP1_IL4I1_double_TAMs_count.csv',\n",
       " 'Analysis_code_and_tab_data/IF/Fig7_frequency_quantification_IL4I1_SPP1_TAMs/images/TA118_panCKC_IL4I1Y_SPP1P.zip',\n",
       " 'Analysis_code_and_tab_data/Mice_experiments_Fig6_JK/BCmodel_4T1.csv',\n",
       " 'Analysis_code_and_tab_data/Mice_experiments_Fig6_JK/CRCmodel_CT26.csv',\n",
       " 'Analysis_code_and_tab_data/Mice_experiments_Fig6_JK/plot_tumor_growth.R',\n",
       " 'Analysis_code_and_tab_data/Visium/Fig6E_breastFFPE/.Rhistory',\n",
       " 'Analysis_code_and_tab_data/Visium/Fig6E_breastFFPE/DCIS_SPP1_annots_andGE_v2.csv',\n",
       " 'Analysis_code_and_tab_data/Visium/Fig6E_breastFFPE/plot_Visium_SPP1_Fig6E.R',\n",
       " 'Analysis_code_and_tab_data/scRNA/Fig_1CDEF_S1_2A_3EF_6CD_Plot_scRNA_Seq_data.R',\n",
       " 'Analysis_code_and_tab_data/scRNA/integrated_annotated_MonoMac_object.rds',\n",
       " 'Analysis_code_and_tab_data/scRNA/Fig3F_GSEA/DE_annotated_clean2_MACs.csv',\n",
       " 'Analysis_code_and_tab_data/scRNA/Fig3F_GSEA/GSEA_ClusterProfiler.R',\n",
       " 'Analysis_code_and_tab_data/scRNA/Fig3GH_Bassez_etal_cell_freq_by_Pembro_res/Plot_cell_frequency_in_Bassez_etal_by_Pembro_response_Fig3GH.R',\n",
       " 'Analysis_code_and_tab_data/scRNA/Fig5E_S5C_CellChat/Bassez_etal_counts_to_CellChat.rds',\n",
       " 'Analysis_code_and_tab_data/scRNA/Fig5E_S5C_CellChat/CellChat_Fig5E_S5C.R',\n",
       " 'Analysis_code_and_tab_data/scRNA/Fig5E_S5C_CellChat/Lee_etal_counts_to_CellChat.rds',\n",
       " 'Analysis_code_and_tab_data/scRNA/tab_data/FINAL_MONOMAC_DE_by_annotated_clusters_all_genes.csv',\n",
       " 'Analysis_code_and_tab_data/scRNA/tab_data/FINAL_MONOMAC_DEby_annotated_clusters_top15_genes.csv',\n",
       " 'Analysis_code_and_tab_data/scRNA/tab_data/seurat_clusters_FINAL_MONOMAC_DE_all_genes.csv',\n",
       " 'Analysis_code_and_tab_data/scRNA/tab_data/seurat_clusters_FINAL_MONOMAC_DE_top15_genes.csv',\n",
       " 'Analysis_code_and_tab_data/survival_TMA_analysis/images/TA118_L2_IL4I1R_CD68Y.zip',\n",
       " 'Analysis_code_and_tab_data/survival_TMA_analysis/images/TA118_R_CPTNC_SPP1R_CD68Y.zip',\n",
       " 'Analysis_code_and_tab_data/survival_TMA_analysis/images/TA118_R_IL4I1R_CD68Y.zip',\n",
       " 'Analysis_code_and_tab_data/survival_TMA_analysis/images/TA118_TBL_CPTN_SPP1_CD68.zip',\n",
       " 'Analysis_code_and_tab_data/survival_TMA_analysis/images/TA379L_IL4I1R_CD68Y_FOLR2C.zip',\n",
       " 'Analysis_code_and_tab_data/survival_TMA_analysis/images/TA379R_IL4I1R_CD68Y_FOLR2C.zip',\n",
       " 'Analysis_code_and_tab_data/survival_TMA_analysis/scripts/TA118_IL4I1TAMs_survival.R',\n",
       " 'Analysis_code_and_tab_data/survival_TMA_analysis/scripts/TA118_SPP1TAMs_survival.R',\n",
       " 'Analysis_code_and_tab_data/survival_TMA_analysis/scripts/TA379_IL4I1TAMs_survival.R',\n",
       " 'Analysis_code_and_tab_data/survival_TMA_analysis/tab_data/TA118_IL4I1_count_data.csv',\n",
       " 'Analysis_code_and_tab_data/survival_TMA_analysis/tab_data/TA118_SPP1_count_data.csv',\n",
       " 'Analysis_code_and_tab_data/survival_TMA_analysis/tab_data/TA379_IL4I1_count_data.csv',\n",
       " 'Analysis_code_and_tab_data/survival_TMA_analysis/tab_data/IF_intensity_per_cell/TA118_L2_IL4I1R_CD68Y.csv',\n",
       " 'Analysis_code_and_tab_data/survival_TMA_analysis/tab_data/IF_intensity_per_cell/TA118_R_CPTNC_SPP1R_CD68Y.csv',\n",
       " 'Analysis_code_and_tab_data/survival_TMA_analysis/tab_data/IF_intensity_per_cell/TA118_R_IL4I1R_CD68Y.csv',\n",
       " 'Analysis_code_and_tab_data/survival_TMA_analysis/tab_data/IF_intensity_per_cell/TA118_TBL_CPTN_SPP1_CD68.csv',\n",
       " 'Analysis_code_and_tab_data/survival_TMA_analysis/tab_data/IF_intensity_per_cell/TA379L_IL4I1R_CD68Y_FOLR2C.csv',\n",
       " 'Analysis_code_and_tab_data/survival_TMA_analysis/tab_data/IF_intensity_per_cell/TA379R_IL4I1R_CD68Y_FOLR2C.csv']"
      ]
     },
     "execution_count": 24,
     "metadata": {},
     "output_type": "execute_result"
    }
   ],
   "source": [
    "json_file['files']"
   ]
  },
  {
   "cell_type": "code",
   "execution_count": 25,
   "metadata": {},
   "outputs": [
    {
     "data": {
      "text/plain": [
       "['Analysis_code_and_tab_data/CODEX/tissue_region_meta_data_CODEX_spatial_MAC_Map.csv',\n",
       " 'Analysis_code_and_tab_data/CODEX/neighbourhood_analysis_and_distance_computation_in_python/1_input_annotated_CODEX_cell_metadata.csv',\n",
       " 'Analysis_code_and_tab_data/CODEX/neighbourhood_analysis_and_distance_computation_in_python/1_res_and_2_input_BC_CRC_nieghbourhoods_clustering_res.csv',\n",
       " 'Analysis_code_and_tab_data/CODEX/neighbourhood_analysis_and_distance_computation_in_python/1_script_CRC_BC_neighbourhood_analysis.ipynb',\n",
       " 'Analysis_code_and_tab_data/CODEX/neighbourhood_analysis_and_distance_computation_in_python/2_script_compute_dist_from_the_closest_tumor_Cell.ipynb',\n",
       " 'Analysis_code_and_tab_data/CODEX/neighbourhood_analysis_and_distance_computation_in_python/CODEX_AnnData_combined_expression_and_metadata.h5ad',\n",
       " 'Analysis_code_and_tab_data/CODEX/ploting_in_R/1_BC_CRC_nieghbourhoods_clustering_res.csv',\n",
       " 'Analysis_code_and_tab_data/CODEX/ploting_in_R/1_Fig4D_S4D_S4E_4E_2B_S3E_M_plot_niche_MAC_Epi_frequency_and_niche_dotplots.R',\n",
       " 'Analysis_code_and_tab_data/CODEX/ploting_in_R/2_Fig4C_S3C_plot_CODEX_distances.R',\n",
       " 'Analysis_code_and_tab_data/CODEX/ploting_in_R/2_res_BC_MAC_dist_to_Epi_by_niche.csv',\n",
       " 'Analysis_code_and_tab_data/CODEX/ploting_in_R/2_res_CRC_MAC_dist_to_Epi_by_niche.csv',\n",
       " 'Analysis_code_and_tab_data/CODEX/stacked_TIF_images/BC_stacked_TIFs_andChannel_names.zip',\n",
       " 'Analysis_code_and_tab_data/CODEX/stacked_TIF_images/CRC_stacked_TIFs_with_channel_names 3.zip',\n",
       " 'Analysis_code_and_tab_data/CODEX/stacked_TIF_images/CRC_stacked_TIFs_with_channel_names.zip',\n",
       " 'Analysis_code_and_tab_data/IF/clinical annotations TA588 TA589.xlsx',\n",
       " 'Analysis_code_and_tab_data/IF/Fig2_distance_IL4I1_NLRP3_SPP1_FOLR2_MACs_to_Epithelial_cells/plot_distance_to_closest_tumor_Cell.R',\n",
       " 'Analysis_code_and_tab_data/IF/Fig2_distance_IL4I1_NLRP3_SPP1_FOLR2_MACs_to_Epithelial_cells/plot_spatial_distribution.R',\n",
       " 'Analysis_code_and_tab_data/IF/Fig2_distance_IL4I1_NLRP3_SPP1_FOLR2_MACs_to_Epithelial_cells/IF_intensity_per_cell/!FF_TA588_IL4I1R_FOLR2Y_panCKC.csv',\n",
       " 'Analysis_code_and_tab_data/IF/Fig2_distance_IL4I1_NLRP3_SPP1_FOLR2_MACs_to_Epithelial_cells/IF_intensity_per_cell/!FF_TA589_IL4I1R_FOLR2Y_PckB.csv',\n",
       " 'Analysis_code_and_tab_data/IF/Fig2_distance_IL4I1_NLRP3_SPP1_FOLR2_MACs_to_Epithelial_cells/IF_intensity_per_cell/!TA588_FOLR2Y_NLRP3R_panCKC.csv',\n",
       " 'Analysis_code_and_tab_data/IF/Fig2_distance_IL4I1_NLRP3_SPP1_FOLR2_MACs_to_Epithelial_cells/IF_intensity_per_cell/!TA588_FOLR2Y_SPP1R_panCKC.csv',\n",
       " 'Analysis_code_and_tab_data/IF/Fig2_distance_IL4I1_NLRP3_SPP1_FOLR2_MACs_to_Epithelial_cells/IF_intensity_per_cell/!TA589_FOLR2Y_NLRP3R_panCKC.csv',\n",
       " 'Analysis_code_and_tab_data/IF/Fig2_distance_IL4I1_NLRP3_SPP1_FOLR2_MACs_to_Epithelial_cells/annotated_cells_and_coordinates/TA588_IL4I1_FOLR2_PanCK_scanapy_annots.csv',\n",
       " 'Analysis_code_and_tab_data/IF/Fig2_distance_IL4I1_NLRP3_SPP1_FOLR2_MACs_to_Epithelial_cells/annotated_cells_and_coordinates/TA588_NLRP3_FOLR2_PanCK_scanapy_annots.csv',\n",
       " 'Analysis_code_and_tab_data/IF/Fig2_distance_IL4I1_NLRP3_SPP1_FOLR2_MACs_to_Epithelial_cells/annotated_cells_and_coordinates/TA588_SPP1_FOLR2_PanCK_scanapy_annots.csv',\n",
       " 'Analysis_code_and_tab_data/IF/Fig2_distance_IL4I1_NLRP3_SPP1_FOLR2_MACs_to_Epithelial_cells/annotated_cells_and_coordinates/TA589_IL4I1_FOLR2_PanCK_scanapy_annots.csv',\n",
       " 'Analysis_code_and_tab_data/IF/Fig2_distance_IL4I1_NLRP3_SPP1_FOLR2_MACs_to_Epithelial_cells/annotated_cells_and_coordinates/TA589_NLRP3_FOLR2_PanCK_scanapy_annots.csv',\n",
       " 'Analysis_code_and_tab_data/IF/Fig2_distance_IL4I1_NLRP3_SPP1_FOLR2_MACs_to_Epithelial_cells/distances/TA588_IL4I1_FOLR2_PanCK_dist_to_Epi_scanapy.csv',\n",
       " 'Analysis_code_and_tab_data/IF/Fig2_distance_IL4I1_NLRP3_SPP1_FOLR2_MACs_to_Epithelial_cells/distances/TA588_NLRP3_FOLR2_PanCK_dist_to_Epi_scanapy.csv',\n",
       " 'Analysis_code_and_tab_data/IF/Fig2_distance_IL4I1_NLRP3_SPP1_FOLR2_MACs_to_Epithelial_cells/distances/TA588_SPP1_FOLR2_PanCK_dist_to_Epi_scanapy.csv',\n",
       " 'Analysis_code_and_tab_data/IF/Fig2_distance_IL4I1_NLRP3_SPP1_FOLR2_MACs_to_Epithelial_cells/distances/TA589_IL4I1_FOLR2_PanCK_MAC_dist_to_Epi.csv',\n",
       " 'Analysis_code_and_tab_data/IF/Fig2_distance_IL4I1_NLRP3_SPP1_FOLR2_MACs_to_Epithelial_cells/distances/TA589_NLRP3_FOLR2_PanCK_MAC_dist_to_Epi.csv',\n",
       " 'Analysis_code_and_tab_data/IF/Fig2_distance_IL4I1_NLRP3_SPP1_FOLR2_MACs_to_Epithelial_cells/images/!FF_TA588_IL4I1R_FOLR2Y_panCKC.zip',\n",
       " 'Analysis_code_and_tab_data/IF/Fig2_distance_IL4I1_NLRP3_SPP1_FOLR2_MACs_to_Epithelial_cells/images/!FF_TA589_IL4I1R_FOLR2Y_PckB.zip',\n",
       " 'Analysis_code_and_tab_data/IF/Fig2_distance_IL4I1_NLRP3_SPP1_FOLR2_MACs_to_Epithelial_cells/images/!TA588_FOLR2Y_NLRP3R_panCKC.zip',\n",
       " 'Analysis_code_and_tab_data/IF/Fig2_distance_IL4I1_NLRP3_SPP1_FOLR2_MACs_to_Epithelial_cells/images/!TA588_FOLR2Y_SPP1R_panCKC.zip',\n",
       " 'Analysis_code_and_tab_data/IF/Fig2_distance_IL4I1_NLRP3_SPP1_FOLR2_MACs_to_Epithelial_cells/images/!TA589_FOLR2Y_NLRP3R_panCKC.zip',\n",
       " 'Analysis_code_and_tab_data/IF/Fig5_FOLR2_IL4I1Macs_distance_to_PC/plot_IL4I1_FOLR2_dist_from_PC.R',\n",
       " 'Analysis_code_and_tab_data/IF/Fig5_FOLR2_IL4I1Macs_distance_to_PC/IF_intensity_per_cell/TA588_IL4I1R_FOLR2Y_CD138C_re.csv',\n",
       " 'Analysis_code_and_tab_data/IF/Fig5_FOLR2_IL4I1Macs_distance_to_PC/IF_intensity_per_cell/TA589_IL4I1R_FOLR2Y_CD138C_re.csv',\n",
       " 'Analysis_code_and_tab_data/IF/Fig5_FOLR2_IL4I1Macs_distance_to_PC/cell_annots_and_coordinates/TA588_CD138_FOLR2_IL4I1_scanapy_annots.csv',\n",
       " 'Analysis_code_and_tab_data/IF/Fig5_FOLR2_IL4I1Macs_distance_to_PC/cell_annots_and_coordinates/TA589_CD138_FOLR2_IL4I1_scanapy_annots.csv',\n",
       " 'Analysis_code_and_tab_data/IF/Fig5_FOLR2_IL4I1Macs_distance_to_PC/distances/TA588_IL4I1_FOLR2_CD138_dist_to_PC_scanapy.csv',\n",
       " 'Analysis_code_and_tab_data/IF/Fig5_FOLR2_IL4I1Macs_distance_to_PC/distances/TA589_IL4I1_FOLR2_CD138_dist_to_PC_scanapy.csv',\n",
       " 'Analysis_code_and_tab_data/IF/Fig5_FOLR2_IL4I1Macs_distance_to_PC/images/!TA588_IL4I1R_FOLR2Y_CD138C_re.zip',\n",
       " 'Analysis_code_and_tab_data/IF/Fig5_FOLR2_IL4I1Macs_distance_to_PC/images/!TA589_IL4I1R_FOLR2Y_CD138C_re.zip',\n",
       " 'Analysis_code_and_tab_data/IF/Fig6_Neutrophil_quantification_Crohns/CD_CPTN_DAPI.csv',\n",
       " 'Analysis_code_and_tab_data/IF/Fig6_Neutrophil_quantification_Crohns/Plot_neutrophil_quantification.R',\n",
       " 'Analysis_code_and_tab_data/IF/Fig6_Neutrophil_quantification_in_tumors/plot_Neutrophils_in_BC_CRC_by_NLRP3_aggregation.R',\n",
       " 'Analysis_code_and_tab_data/IF/Fig6_Neutrophil_quantification_in_tumors/IF_intensity_per_cell/TA588_CPTNG_NLRP3R_CD68Y.csv',\n",
       " 'Analysis_code_and_tab_data/IF/Fig6_Neutrophil_quantification_in_tumors/IF_intensity_per_cell/TA589_CPTNG_NLRP3R_CD68Y.csv',\n",
       " 'Analysis_code_and_tab_data/IF/Fig6_Neutrophil_quantification_in_tumors/IF_intensity_per_cell/plot_IL4I1_SPP1_TAM_frequency.R',\n",
       " 'Analysis_code_and_tab_data/IF/Fig6_Neutrophil_quantification_in_tumors/cell_annots_and_coordinates/Neutophils_NLRP3_inflammasome.csv',\n",
       " 'Analysis_code_and_tab_data/IF/Fig6_Neutrophil_quantification_in_tumors/images/!TA588_CPTNG_NLRP3R_CD68Y.zip',\n",
       " 'Analysis_code_and_tab_data/IF/Fig6_Neutrophil_quantification_in_tumors/images/!TA589_CPTNG_NLRP3R_CD68Y.zip',\n",
       " 'Analysis_code_and_tab_data/IF/Fig7_frequency_quantification_IL4I1_SPP1_TAMs/plot_IL4I1_SPP1_TAM_frequency.R',\n",
       " 'Analysis_code_and_tab_data/IF/Fig7_frequency_quantification_IL4I1_SPP1_TAMs/IF_intensities/TA118_panCKC_IL4I1Y_SPP1P.csv',\n",
       " 'Analysis_code_and_tab_data/IF/Fig7_frequency_quantification_IL4I1_SPP1_TAMs/cell_annots_and_coordinates/TA118_SPP1_IL4I1_double_TAMs_count.csv',\n",
       " 'Analysis_code_and_tab_data/IF/Fig7_frequency_quantification_IL4I1_SPP1_TAMs/images/TA118_panCKC_IL4I1Y_SPP1P.zip',\n",
       " 'Analysis_code_and_tab_data/Mice_experiments_Fig6_JK/BCmodel_4T1.csv',\n",
       " 'Analysis_code_and_tab_data/Mice_experiments_Fig6_JK/CRCmodel_CT26.csv',\n",
       " 'Analysis_code_and_tab_data/Mice_experiments_Fig6_JK/plot_tumor_growth.R',\n",
       " 'Analysis_code_and_tab_data/Visium/Fig6E_breastFFPE/.Rhistory',\n",
       " 'Analysis_code_and_tab_data/Visium/Fig6E_breastFFPE/DCIS_SPP1_annots_andGE_v2.csv',\n",
       " 'Analysis_code_and_tab_data/Visium/Fig6E_breastFFPE/plot_Visium_SPP1_Fig6E.R',\n",
       " 'Analysis_code_and_tab_data/scRNA/Fig_1CDEF_S1_2A_3EF_6CD_Plot_scRNA_Seq_data.R',\n",
       " 'Analysis_code_and_tab_data/scRNA/integrated_annotated_MonoMac_object.rds',\n",
       " 'Analysis_code_and_tab_data/scRNA/Fig3F_GSEA/DE_annotated_clean2_MACs.csv',\n",
       " 'Analysis_code_and_tab_data/scRNA/Fig3F_GSEA/GSEA_ClusterProfiler.R',\n",
       " 'Analysis_code_and_tab_data/scRNA/Fig3GH_Bassez_etal_cell_freq_by_Pembro_res/Plot_cell_frequency_in_Bassez_etal_by_Pembro_response_Fig3GH.R',\n",
       " 'Analysis_code_and_tab_data/scRNA/Fig5E_S5C_CellChat/Bassez_etal_counts_to_CellChat.rds',\n",
       " 'Analysis_code_and_tab_data/scRNA/Fig5E_S5C_CellChat/CellChat_Fig5E_S5C.R',\n",
       " 'Analysis_code_and_tab_data/scRNA/Fig5E_S5C_CellChat/Lee_etal_counts_to_CellChat.rds',\n",
       " 'Analysis_code_and_tab_data/scRNA/tab_data/FINAL_MONOMAC_DE_by_annotated_clusters_all_genes.csv',\n",
       " 'Analysis_code_and_tab_data/scRNA/tab_data/FINAL_MONOMAC_DEby_annotated_clusters_top15_genes.csv',\n",
       " 'Analysis_code_and_tab_data/scRNA/tab_data/seurat_clusters_FINAL_MONOMAC_DE_all_genes.csv',\n",
       " 'Analysis_code_and_tab_data/scRNA/tab_data/seurat_clusters_FINAL_MONOMAC_DE_top15_genes.csv',\n",
       " 'Analysis_code_and_tab_data/survival_TMA_analysis/images/TA118_L2_IL4I1R_CD68Y.zip',\n",
       " 'Analysis_code_and_tab_data/survival_TMA_analysis/images/TA118_R_CPTNC_SPP1R_CD68Y.zip',\n",
       " 'Analysis_code_and_tab_data/survival_TMA_analysis/images/TA118_R_IL4I1R_CD68Y.zip',\n",
       " 'Analysis_code_and_tab_data/survival_TMA_analysis/images/TA118_TBL_CPTN_SPP1_CD68.zip',\n",
       " 'Analysis_code_and_tab_data/survival_TMA_analysis/images/TA379L_IL4I1R_CD68Y_FOLR2C.zip',\n",
       " 'Analysis_code_and_tab_data/survival_TMA_analysis/images/TA379R_IL4I1R_CD68Y_FOLR2C.zip',\n",
       " 'Analysis_code_and_tab_data/survival_TMA_analysis/scripts/TA118_IL4I1TAMs_survival.R',\n",
       " 'Analysis_code_and_tab_data/survival_TMA_analysis/scripts/TA118_SPP1TAMs_survival.R',\n",
       " 'Analysis_code_and_tab_data/survival_TMA_analysis/scripts/TA379_IL4I1TAMs_survival.R',\n",
       " 'Analysis_code_and_tab_data/survival_TMA_analysis/tab_data/TA118_IL4I1_count_data.csv',\n",
       " 'Analysis_code_and_tab_data/survival_TMA_analysis/tab_data/TA118_SPP1_count_data.csv',\n",
       " 'Analysis_code_and_tab_data/survival_TMA_analysis/tab_data/TA379_IL4I1_count_data.csv',\n",
       " 'Analysis_code_and_tab_data/survival_TMA_analysis/tab_data/IF_intensity_per_cell/TA118_L2_IL4I1R_CD68Y.csv',\n",
       " 'Analysis_code_and_tab_data/survival_TMA_analysis/tab_data/IF_intensity_per_cell/TA118_R_CPTNC_SPP1R_CD68Y.csv',\n",
       " 'Analysis_code_and_tab_data/survival_TMA_analysis/tab_data/IF_intensity_per_cell/TA118_R_IL4I1R_CD68Y.csv',\n",
       " 'Analysis_code_and_tab_data/survival_TMA_analysis/tab_data/IF_intensity_per_cell/TA118_TBL_CPTN_SPP1_CD68.csv',\n",
       " 'Analysis_code_and_tab_data/survival_TMA_analysis/tab_data/IF_intensity_per_cell/TA379L_IL4I1R_CD68Y_FOLR2C.csv',\n",
       " 'Analysis_code_and_tab_data/survival_TMA_analysis/tab_data/IF_intensity_per_cell/TA379R_IL4I1R_CD68Y_FOLR2C.csv']"
      ]
     },
     "execution_count": 25,
     "metadata": {},
     "output_type": "execute_result"
    }
   ],
   "source": [
    "file_list"
   ]
  },
  {
   "cell_type": "code",
   "execution_count": null,
   "metadata": {},
   "outputs": [],
   "source": []
  }
 ],
 "metadata": {
  "kernelspec": {
   "display_name": "ImmunoViewer",
   "language": "python",
   "name": "python3"
  },
  "language_info": {
   "codemirror_mode": {
    "name": "ipython",
    "version": 3
   },
   "file_extension": ".py",
   "mimetype": "text/x-python",
   "name": "python",
   "nbconvert_exporter": "python",
   "pygments_lexer": "ipython3",
   "version": "3.11.3"
  },
  "orig_nbformat": 4
 },
 "nbformat": 4,
 "nbformat_minor": 2
}
