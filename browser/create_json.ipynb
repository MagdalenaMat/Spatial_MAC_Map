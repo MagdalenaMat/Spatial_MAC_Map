{
 "cells": [
  {
   "cell_type": "code",
   "execution_count": 1,
   "metadata": {},
   "outputs": [],
   "source": [
    "import json\n",
    "import os"
   ]
  },
  {
   "cell_type": "code",
   "execution_count": 2,
   "metadata": {},
   "outputs": [],
   "source": [
    "def search_files(start_dir, extension):\n",
    "    result = []\n",
    "    for dirpath, dirs, files in os.walk(start_dir):\n",
    "        for filename in files:\n",
    "            if filename.endswith(extension):\n",
    "                result.append(os.path.relpath(os.path.join(dirpath, filename), start_dir))\n",
    "    return result\n"
   ]
  },
  {
   "attachments": {},
   "cell_type": "markdown",
   "metadata": {},
   "source": [
    "### json file for images"
   ]
  },
  {
   "cell_type": "code",
   "execution_count": 52,
   "metadata": {},
   "outputs": [],
   "source": [
    "file_list = search_files('/Users/vanijzen/Library/Group Containers/G69SCX94XU.duck/Library/Application Support/duck/Volumes.noindex/spatial-mac-map', '.dzi')"
   ]
  },
  {
   "cell_type": "code",
   "execution_count": 53,
   "metadata": {},
   "outputs": [],
   "source": [
    "file_list = [f for f in file_list if not f.startswith('image')]"
   ]
  },
  {
   "cell_type": "code",
   "execution_count": 54,
   "metadata": {},
   "outputs": [],
   "source": [
    "data_list = [{\"folder\": os.path.dirname(file), \n",
    "              \"name\": os.path.basename(file)[:-4],\n",
    "              \"dzi\": file} for file in file_list]"
   ]
  },
  {
   "cell_type": "code",
   "execution_count": 55,
   "metadata": {},
   "outputs": [],
   "source": [
    "json_file = {\"samples\": data_list}"
   ]
  },
  {
   "cell_type": "code",
   "execution_count": 56,
   "metadata": {},
   "outputs": [],
   "source": [
    "with open('src/lib/data.json', 'w') as f:\n",
    "    json.dump(json_file, f, indent=4)"
   ]
  },
  {
   "cell_type": "code",
   "execution_count": 57,
   "metadata": {},
   "outputs": [
    {
     "data": {
      "text/plain": [
       "['full_slide_images/panCKC_IL4I1Y_SPP1P/BC_28485_panCKC_IL4I1Y_SPP1P/BC_28485_panCKC_IL4I1Y_SPP1P.dzi',\n",
       " 'full_slide_images/panCKC_IL4I1Y_SPP1P/left_CRC_33041_Il4I1Y_SPP1P_panCKC/left_CRC_33041_Il4I1Y_SPP1P_panCKC.dzi',\n",
       " 'full_slide_images/panCKC_IL4I1Y_SPP1P/top_BC_28644_panCKC_IL4I1Y_SPP1P/top_BC_28644_panCKC_IL4I1Y_SPP1P.dzi',\n",
       " 'full_slide_images/panCKC_IL4I1Y_SPP1P/bottom_BC_28644_panCKC_IL4I1Y_SPP1P/bottom_BC_28644_panCKC_IL4I1Y_SPP1P.dzi',\n",
       " 'full_slide_images/panCKC_IL4I1Y_SPP1P/NC_33096_panCKC_IL4I1Y_SPP1P/NC_33096_panCKC_IL4I1Y_SPP1P.dzi',\n",
       " 'full_slide_images/panCKC_IL4I1Y_SPP1P/CRC_33096_panCKC_IL4I1Y_SPP1P/CRC_33096_panCKC_IL4I1Y_SPP1P.dzi',\n",
       " 'full_slide_images/panCKC_IL4I1Y_SPP1P/CRC_33086_panCKC_Il4I1Y_SPP1P/CRC_33086_panCKC_Il4I1Y_SPP1P.dzi',\n",
       " 'full_slide_images/panCKC_IL4I1Y_SPP1P/CRC_13130A9_panCKC_Il4I1Y_SPP1P/CRC_13130A9_panCKC_Il4I1Y_SPP1P.dzi',\n",
       " 'full_slide_images/panCKC_IL4I1Y_SPP1P/left_BC_28568_panCKC_Il4I1Y_SPP1P/left_BC_28568_panCKC_Il4I1Y_SPP1P.dzi',\n",
       " 'full_slide_images/panCKC_IL4I1Y_SPP1P/BC_28621_panCKC_IL4I1Y_SPP1P/BC_28621_panCKC_IL4I1Y_SPP1P.dzi',\n",
       " 'full_slide_images/panCKC_IL4I1Y_SPP1P/right_CRC_33041_IL4I1Y_SPP1P_panCKC/right_CRC_33041_IL4I1Y_SPP1P_panCKC.dzi',\n",
       " 'full_slide_images/panCKC_IL4I1Y_SPP1P/right_BC_28568_panCKC_IL4I1Y_SPP1P/right_BC_28568_panCKC_IL4I1Y_SPP1P.dzi',\n",
       " 'full_slide_images/panCKC_IL4I1Y_SPP1P/CRC_33124_panCKC_Il4I1Y_SPP1P/CRC_33124_panCKC_Il4I1Y_SPP1P.dzi',\n",
       " 'full_slide_images/FOLR2C_Il4I1R_SPP1Y/left_BC_28568_panCKC_FOLR2Y_IL4I1R/left_BC_28568_panCKC_FOLR2Y_IL4I1R.dzi',\n",
       " 'full_slide_images/FOLR2C_Il4I1R_SPP1Y/bottom_BC_28644_panCKC_FOLR2Y_IL4I1R/bottom_BC_28644_panCKC_FOLR2Y_IL4I1R.dzi',\n",
       " 'full_slide_images/FOLR2C_Il4I1R_SPP1Y/FS_CRC1a_IL4I1R_FOLR2C_SPP1Y/FS_CRC1a_IL4I1R_FOLR2C_SPP1Y.dzi',\n",
       " 'full_slide_images/FOLR2C_Il4I1R_SPP1Y/FS_CRC1b_IL4I1R_FOLR2C_SPP1Y/FS_CRC1b_IL4I1R_FOLR2C_SPP1Y.dzi',\n",
       " 'full_slide_images/FOLR2C_Il4I1R_SPP1Y/top_BC_28644_panCKC_FOLR2Y_IL4I1R/top_BC_28644_panCKC_FOLR2Y_IL4I1R.dzi',\n",
       " 'full_slide_images/FOLR2C_Il4I1R_SPP1Y/right_BC_28568_panCKC_FOLR2Y_IL4I1R/right_BC_28568_panCKC_FOLR2Y_IL4I1R.dzi',\n",
       " 'full_slide_images/FOLR2C_Il4I1R_SPP1Y/BC_28485_panCKC_FOLR2Y_IL4I1R/BC_28485_panCKC_FOLR2Y_IL4I1R.dzi',\n",
       " 'Crohns_Disease/CD1_NLRP3P_CD68Y_CPTNC/CD1_NLRP3P_CD68Y_CPTNC.dzi',\n",
       " 'Crohns_Disease/CD3_2_CPTNC_CD68Y_NLRP3P/CD3_2_CPTNC_CD68Y_NLRP3P.dzi',\n",
       " 'Crohns_Disease/CD2_CPTNC_CD68Y_NLRP3P/CD2_CPTNC_CD68Y_NLRP3P.dzi',\n",
       " 'Crohns_Disease/CD1_2_CPTNC_CD68Y_NLRP3P/CD1_2_CPTNC_CD68Y_NLRP3P.dzi',\n",
       " 'Crohns_Disease/CD3_CPTNC_CD68Y_NLRP3P/CD3_CPTNC_CD68Y_NLRP3P.dzi',\n",
       " 'Normal_Colon_LYVE1P_FOLR2Y_IL4I1R/NC1_LYVE1P_FOLR2Y_IL4I1R/NC1_LYVE1P_FOLR2Y_IL4I1R.dzi',\n",
       " 'Normal_Colon_LYVE1P_FOLR2Y_IL4I1R/NC8_LYVE1P_FOLR2Y_IL4I1R/NC8_LYVE1P_FOLR2Y_IL4I1R.dzi',\n",
       " 'Normal_Colon_LYVE1P_FOLR2Y_IL4I1R/NC9_LYVE1P_FOLR2Y_IL4I1R/NC9_LYVE1P_FOLR2Y_IL4I1R.dzi',\n",
       " 'Normal_Colon_LYVE1P_FOLR2Y_IL4I1R/NC12_LYVE1P_FOLR2Y_IL4I1R/NC12_LYVE1P_FOLR2Y_IL4I1R.dzi',\n",
       " 'Normal_Colon_LYVE1P_FOLR2Y_IL4I1R/NC2_LYVE1P_FOLR2Y_IL4I1R/NC2_LYVE1P_FOLR2Y_IL4I1R.dzi',\n",
       " 'Normal_Colon_LYVE1P_FOLR2Y_IL4I1R/NC7_LYVE1P_FOLR2Y_IL4I1R/NC7_LYVE1P_FOLR2Y_IL4I1R.dzi',\n",
       " 'Normal_Colon_LYVE1P_FOLR2Y_IL4I1R/NC6_LYVE1P_FOLR2Y_IL4I1R/NC6_LYVE1P_FOLR2Y_IL4I1R.dzi',\n",
       " 'Normal_Colon_LYVE1P_FOLR2Y_IL4I1R/NC4_LYVE1P_FOLR2Y_IL4I1R/NC4_LYVE1P_FOLR2Y_IL4I1R.dzi',\n",
       " 'Figure_images/Fig3D/IL4I1R_DAPI/IL4I1R_DAPI.dzi',\n",
       " 'Figure_images/Fig3D/DAPI/DAPI.dzi',\n",
       " 'Figure_images/Fig3D/cp_HE/cp_HE.dzi',\n",
       " 'Figure_images/Fig3D/HE/HE.dzi',\n",
       " 'Figure_images/Fig3D/IL4I1/IL4I1.dzi',\n",
       " 'Figure_images/Fig2E/SPP1O_FOLR2Y_panCKC/SPP1O_FOLR2Y_panCKC.dzi',\n",
       " 'Figure_images/Fig3C/IL4I1R_FOLR2Y/IL4I1R_FOLR2Y.dzi',\n",
       " 'Figure_images/FigS5A/left_NC_CD38P_FOLR2Y/left_NC_CD38P_FOLR2Y.dzi',\n",
       " 'Figure_images/FigS5A/right_NB_CD38P_FOLR2Y/right_NB_CD38P_FOLR2Y.dzi',\n",
       " 'Figure_images/FigS2E/NC_MARCOC_FOLR2Y_LYVE1P/NC_MARCOC_FOLR2Y_LYVE1P.dzi',\n",
       " 'Figure_images/FigS2C/LN_CRC_met_panCKC_FOLR2Y_IL4I1R/LN_CRC_met_panCKC_FOLR2Y_IL4I1R.dzi',\n",
       " 'Figure_images/Fig7D/TA118_L9_IL4I1R_CD68G/TA118_L9_IL4I1R_CD68G.dzi',\n",
       " 'Figure_images/Fig2D/NLRP3P_FOLR2Y_panCKC/NLRP3P_FOLR2Y_panCKC.dzi',\n",
       " 'Figure_images/FigS2F/NB_MARCOC_FOLR2Y_LYVE1P/NB_MARCOC_FOLR2Y_LYVE1P.dzi',\n",
       " 'Figure_images/Fig5B/CD138C_CD38P_FOLR2Y/CD138C_CD38P_FOLR2Y.dzi',\n",
       " 'Figure_images/Fig2B_CODEX_image/reg027_panCK_CD68_CD163/reg027_panCK_CD68_CD163.dzi',\n",
       " 'Figure_images/Fig7E/TA118_E9_SPP1P_CD68G/TA118_E9_SPP1P_CD68G.dzi',\n",
       " 'Figure_images/Fig3A/panCKC_IL4I1R/panCKC_IL4I1R.dzi',\n",
       " 'Figure_images/Fig6F/rigth_full_NLRP3P_CD68Y_CPTNC/rigth_full_NLRP3P_CD68Y_CPTNC.dzi',\n",
       " 'Figure_images/Fig6F/left_full_NLRP3P_CD68Y_CTPNC/left_full_NLRP3P_CD68Y_CTPNC.dzi',\n",
       " 'Figure_images/Fig6F/right_NLRP3P_CD68Y_CPTNC/right_NLRP3P_CD68Y_CPTNC.dzi',\n",
       " 'Figure_images/Fig6F/left_NLRP3P_CD68Y_CPTNC/left_NLRP3P_CD68Y_CPTNC.dzi',\n",
       " 'Figure_images/Fig3B/IL4I1R_FOLR2Y_panCKC/IL4I1R_FOLR2Y_panCKC.dzi',\n",
       " 'Figure_images/FigS5B/NLN_FOLR2Y_CD38P/NLN_FOLR2Y_CD38P.dzi',\n",
       " 'Figure_images/FigS6A/right_NLRP3P_CD68Y_NLRP3P/right_NLRP3P_CD68Y_NLRP3P.dzi',\n",
       " 'Figure_images/FigS6A/left_CD_CD68Y_CPTNC/left_CD_CD68Y_CPTNC.dzi',\n",
       " 'Figure_images/FigS2D/NC_IL4I1R_FOLR2Y_LYVE1P/NC_IL4I1R_FOLR2Y_LYVE1P.dzi',\n",
       " 'Figure_images/Fig2C/IL4I1R_FOLR2Y_panCKC/IL4I1R_FOLR2Y_panCKC.dzi',\n",
       " 'Figure_images/Fig7A/PanCKC_SPP1P_IL4I1Y/PanCKC_SPP1P_IL4I1Y.dzi',\n",
       " 'Figure_images/FigS2B/big_area_panCKC_FOLR2Y_IL4I1R/big_area_panCKC_FOLR2Y_IL4I1R.dzi',\n",
       " 'Normal_Colon_panCKC_FOLR2Y_IL4I1R/NC2_panCKC_FOLR2Y_IL4I1R/NC2_panCKC_FOLR2Y_IL4I1R.dzi',\n",
       " 'Normal_Colon_panCKC_FOLR2Y_IL4I1R/NC10_panCKC_FOLR2Y_IL4I1R/NC10_panCKC_FOLR2Y_IL4I1R.dzi',\n",
       " 'Normal_Colon_panCKC_FOLR2Y_IL4I1R/NC1_panCKC_FOLR2Y_IL4I1R/NC1_panCKC_FOLR2Y_IL4I1R.dzi',\n",
       " 'Normal_Colon_panCKC_FOLR2Y_IL4I1R/NC5_panCKC_FOLR2Y_IL4I1R/NC5_panCKC_FOLR2Y_IL4I1R.dzi',\n",
       " 'Normal_Colon_panCKC_FOLR2Y_IL4I1R/NC6_panCKC_FOLR2Y_IL4I1R/NC6_panCKC_FOLR2Y_IL4I1R.dzi',\n",
       " 'Normal_Colon_panCKC_FOLR2Y_IL4I1R/NC10_2_panCKC_FOLR2Y_IL4I1R/NC10_2_panCKC_FOLR2Y_IL4I1R.dzi',\n",
       " 'Normal_Colon_panCKC_FOLR2Y_IL4I1R/NC8_panCKC_FOLR2Y_IL4I1R/NC8_panCKC_FOLR2Y_IL4I1R.dzi']"
      ]
     },
     "execution_count": 57,
     "metadata": {},
     "output_type": "execute_result"
    }
   ],
   "source": [
    "file_list"
   ]
  },
  {
   "cell_type": "code",
   "execution_count": 58,
   "metadata": {},
   "outputs": [
    {
     "data": {
      "text/plain": [
       "70"
      ]
     },
     "execution_count": 58,
     "metadata": {},
     "output_type": "execute_result"
    }
   ],
   "source": [
    "len(file_list)"
   ]
  },
  {
   "attachments": {},
   "cell_type": "markdown",
   "metadata": {},
   "source": [
    "### JSON for files"
   ]
  },
  {
   "cell_type": "code",
   "execution_count": 5,
   "metadata": {},
   "outputs": [],
   "source": [
    "file_list = search_files('/Users/vanijzen/Library/Group Containers/G69SCX94XU.duck/Library/Application Support/duck/Volumes.noindex/macs-data/', '')"
   ]
  },
  {
   "cell_type": "code",
   "execution_count": 8,
   "metadata": {},
   "outputs": [
    {
     "ename": "AttributeError",
     "evalue": "'str' object has no attribute 'includes'",
     "output_type": "error",
     "traceback": [
      "\u001b[0;31m---------------------------------------------------------------------------\u001b[0m",
      "\u001b[0;31mAttributeError\u001b[0m                            Traceback (most recent call last)",
      "Cell \u001b[0;32mIn[8], line 3\u001b[0m\n\u001b[1;32m      1\u001b[0m \u001b[39m# remove all DS_Store files\u001b[39;00m\n\u001b[1;32m      2\u001b[0m file_list \u001b[39m=\u001b[39m [f \u001b[39mfor\u001b[39;00m f \u001b[39min\u001b[39;00m file_list \u001b[39mif\u001b[39;00m \u001b[39mnot\u001b[39;00m f\u001b[39m.\u001b[39mstartswith(\u001b[39m'\u001b[39m\u001b[39m.\u001b[39m\u001b[39m'\u001b[39m)]\n\u001b[0;32m----> 3\u001b[0m file_list \u001b[39m=\u001b[39m [f \u001b[39mfor\u001b[39;49;00m f \u001b[39min\u001b[39;49;00m file_list \u001b[39mif\u001b[39;49;00m \u001b[39mnot\u001b[39;49;00m f\u001b[39m.\u001b[39;49mincludes(\u001b[39m'\u001b[39;49m\u001b[39mDS_Store\u001b[39;49m\u001b[39m'\u001b[39;49m)]\n\u001b[1;32m      4\u001b[0m file_list\n",
      "Cell \u001b[0;32mIn[8], line 3\u001b[0m, in \u001b[0;36m<listcomp>\u001b[0;34m(.0)\u001b[0m\n\u001b[1;32m      1\u001b[0m \u001b[39m# remove all DS_Store files\u001b[39;00m\n\u001b[1;32m      2\u001b[0m file_list \u001b[39m=\u001b[39m [f \u001b[39mfor\u001b[39;00m f \u001b[39min\u001b[39;00m file_list \u001b[39mif\u001b[39;00m \u001b[39mnot\u001b[39;00m f\u001b[39m.\u001b[39mstartswith(\u001b[39m'\u001b[39m\u001b[39m.\u001b[39m\u001b[39m'\u001b[39m)]\n\u001b[0;32m----> 3\u001b[0m file_list \u001b[39m=\u001b[39m [f \u001b[39mfor\u001b[39;00m f \u001b[39min\u001b[39;00m file_list \u001b[39mif\u001b[39;00m \u001b[39mnot\u001b[39;00m f\u001b[39m.\u001b[39;49mincludes(\u001b[39m'\u001b[39m\u001b[39mDS_Store\u001b[39m\u001b[39m'\u001b[39m)]\n\u001b[1;32m      4\u001b[0m file_list\n",
      "\u001b[0;31mAttributeError\u001b[0m: 'str' object has no attribute 'includes'"
     ]
    }
   ],
   "source": [
    "# remove all DS_Store files\n",
    "file_list = [f for f in file_list if not f.startswith('.')]\n",
    "file_list = [f for f in file_list if not f.includes('DS_Store')]\n",
    "file_list"
   ]
  },
  {
   "cell_type": "code",
   "execution_count": null,
   "metadata": {},
   "outputs": [],
   "source": [
    "file_list"
   ]
  },
  {
   "cell_type": "code",
   "execution_count": null,
   "metadata": {},
   "outputs": [],
   "source": [
    "print(\"test\")"
   ]
  },
  {
   "cell_type": "code",
   "execution_count": null,
   "metadata": {},
   "outputs": [],
   "source": []
  }
 ],
 "metadata": {
  "kernelspec": {
   "display_name": "ImmunoViewer",
   "language": "python",
   "name": "python3"
  },
  "language_info": {
   "codemirror_mode": {
    "name": "ipython",
    "version": 3
   },
   "file_extension": ".py",
   "mimetype": "text/x-python",
   "name": "python",
   "nbconvert_exporter": "python",
   "pygments_lexer": "ipython3",
   "version": "3.11.3"
  },
  "orig_nbformat": 4
 },
 "nbformat": 4,
 "nbformat_minor": 2
}
