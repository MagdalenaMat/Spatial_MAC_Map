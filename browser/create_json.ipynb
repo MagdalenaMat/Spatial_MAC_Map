{
 "cells": [
  {
   "cell_type": "code",
   "execution_count": 5,
   "metadata": {},
   "outputs": [],
   "source": [
    "import json\n",
    "import os"
   ]
  },
  {
   "cell_type": "code",
   "execution_count": 3,
   "metadata": {},
   "outputs": [],
   "source": [
    "def search_files(start_dir, extension):\n",
    "    result = []\n",
    "    for dirpath, dirs, files in os.walk(start_dir):\n",
    "        for filename in files:\n",
    "            if filename.endswith(extension):\n",
    "                result.append(os.path.relpath(os.path.join(dirpath, filename), start_dir))\n",
    "    return result\n"
   ]
  },
  {
   "cell_type": "code",
   "execution_count": 8,
   "metadata": {},
   "outputs": [],
   "source": [
    "file_list = search_files('/Users/vanijzen/Library/Group Containers/G69SCX94XU.duck/Library/Application Support/duck/Volumes.noindex/spatial-mac-map/images', '.dzi')"
   ]
  },
  {
   "cell_type": "code",
   "execution_count": 23,
   "metadata": {},
   "outputs": [],
   "source": [
    "data_list = [{\"folder\": os.path.dirname(file), \n",
    "              \"name\": os.path.basename(file)[:-4],\n",
    "              \"dzi\": file} for file in file_list]"
   ]
  },
  {
   "cell_type": "code",
   "execution_count": 24,
   "metadata": {},
   "outputs": [],
   "source": [
    "json_file = {\"samples\": data_list}"
   ]
  },
  {
   "cell_type": "code",
   "execution_count": 27,
   "metadata": {},
   "outputs": [],
   "source": [
    "with open('src/lib/data.json', 'w') as f:\n",
    "    json.dump(json_file, f, indent=4)"
   ]
  },
  {
   "cell_type": "code",
   "execution_count": null,
   "metadata": {},
   "outputs": [],
   "source": []
  }
 ],
 "metadata": {
  "kernelspec": {
   "display_name": "ImmunoViewer",
   "language": "python",
   "name": "python3"
  },
  "language_info": {
   "codemirror_mode": {
    "name": "ipython",
    "version": 3
   },
   "file_extension": ".py",
   "mimetype": "text/x-python",
   "name": "python",
   "nbconvert_exporter": "python",
   "pygments_lexer": "ipython3",
   "version": "3.11.3"
  },
  "orig_nbformat": 4
 },
 "nbformat": 4,
 "nbformat_minor": 2
}
